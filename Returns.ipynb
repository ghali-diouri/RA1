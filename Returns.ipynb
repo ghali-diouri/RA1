{
 "cells": [
  {
   "cell_type": "code",
   "execution_count": 21,
   "metadata": {},
   "outputs": [],
   "source": [
    "import pandas as pd\n",
    "import pickle\n",
    "from pandas.tseries.offsets import MonthEnd"
   ]
  },
  {
   "cell_type": "code",
   "execution_count": 22,
   "metadata": {},
   "outputs": [],
   "source": [
    "filename = 'msci.pkl'\n",
    "with open (filename, 'rb') as f :\n",
    "    msci = pickle.load(f)\n",
    "\n",
    "filename = 'crsp.pkl'\n",
    "with open (filename, 'rb') as f :\n",
    "    crsp = pickle.load(f)"
   ]
  },
  {
   "cell_type": "code",
   "execution_count": 33,
   "metadata": {},
   "outputs": [],
   "source": [
    "db = pd.merge(msci, crsp, left_on = ['AS_OF_DATE','ISSUER_TICKER'], right_on = ['date1','TICKER'] ).drop(['date1','ISSUER_TICKER'], axis = 1)\n",
    "db ['z_returns'] = db['demeaned_rescaled'] * db['RET1']\n",
    "db = db.drop_duplicates(subset = ['TICKER','z_returns'])\n",
    "returns = db "
   ]
  },
  {
   "cell_type": "code",
   "execution_count": 34,
   "metadata": {},
   "outputs": [],
   "source": [
    "filename = 'returns.pkl'\n",
    "with open(filename, 'wb') as f : \n",
    "    pickle.dump(returns,f)\n",
    "    "
   ]
  }
 ],
 "metadata": {
  "kernelspec": {
   "display_name": "Python 3.8.3 ('base')",
   "language": "python",
   "name": "python3"
  },
  "language_info": {
   "codemirror_mode": {
    "name": "ipython",
    "version": 3
   },
   "file_extension": ".py",
   "mimetype": "text/x-python",
   "name": "python",
   "nbconvert_exporter": "python",
   "pygments_lexer": "ipython3",
   "version": "3.8.3"
  },
  "orig_nbformat": 4,
  "vscode": {
   "interpreter": {
    "hash": "40d3a090f54c6569ab1632332b64b2c03c39dcf918b08424e98f38b5ae0af88f"
   }
  }
 },
 "nbformat": 4,
 "nbformat_minor": 2
}
